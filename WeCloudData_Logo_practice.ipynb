{
  "nbformat": 4,
  "nbformat_minor": 0,
  "metadata": {
    "kernelspec": {
      "display_name": "Python 3",
      "language": "python",
      "name": "python3"
    },
    "language_info": {
      "codemirror_mode": {
        "name": "ipython",
        "version": 3
      },
      "file_extension": ".py",
      "mimetype": "text/x-python",
      "name": "python",
      "nbconvert_exporter": "python",
      "pygments_lexer": "ipython3",
      "version": "3.8.3"
    },
    "colab": {
      "name": "WeCloudData-Logo-practice.ipynb",
      "provenance": [],
      "include_colab_link": true
    }
  },
  "cells": [
    {
      "cell_type": "markdown",
      "metadata": {
        "id": "view-in-github",
        "colab_type": "text"
      },
      "source": [
        "<a href=\"https://colab.research.google.com/github/FariusGitHub/seaborn/blob/master/WeCloudData_Logo_practice.ipynb\" target=\"_parent\"><img src=\"https://colab.research.google.com/assets/colab-badge.svg\" alt=\"Open In Colab\"/></a>"
      ]
    },
    {
      "cell_type": "markdown",
      "metadata": {
        "id": "yuyylDBtBFIF",
        "colab_type": "text"
      },
      "source": [
        ""
      ]
    },
    {
      "cell_type": "markdown",
      "metadata": {
        "jupyter": {
          "outputs_hidden": false
        },
        "id": "6K6Hp5lzBFIJ",
        "colab_type": "text"
      },
      "source": [
        "![image.png](attachment:bc41cc3c-1635-4951-ac24-e717a15f5aa0.png)"
      ]
    },
    {
      "cell_type": "code",
      "metadata": {
        "jupyter": {
          "outputs_hidden": false
        },
        "id": "Kd-9pMOFBFIM",
        "colab_type": "code",
        "colab": {
          "base_uri": "https://localhost:8080/",
          "height": 287
        },
        "outputId": "371b561f-2b22-4d16-fe3b-df559bcb41fc"
      },
      "source": [
        "import numpy as np;\n",
        "import matplotlib.lines as mlines\n",
        "import matplotlib.pyplot as plt\n",
        " \n",
        "fig = plt.figure()\n",
        "plt.xlim(-6, 6), plt.ylim(-5, 3);                                       \n",
        "\n",
        "x = np.linspace(-1.3, 1.75, 50); \n",
        "plt.plot(x, (4-(x)**2)**0.5, color='purple', linewidth=5);              \n",
        "\n",
        "x = np.linspace(-1.765, -5.529, 50); \n",
        "plt.plot(x, (4-(x+3.529)**2)**0.5, color='red', linewidth=5);           \n",
        "\n",
        "x = np.linspace(-5.4, -5.529, 50); \n",
        "plt.plot(x, -(4-(x+3.529)**2)**0.5, color='red', linewidth=5);          \n",
        "\n",
        "x = np.linspace(-5.4, -3.28, 50); \n",
        "plt.plot(x, 0.48*(x+4.422)**2-1.141, color='red', linewidth=5);         \n",
        "\n",
        "x = np.linspace(-1.627, -3.511, 50); \n",
        "plt.plot(x, 0.48*(x+2.769)**2-3.056, color='red', linewidth=5);         \n",
        "\n",
        "x = np.linspace(0, -2.719, 50); \n",
        "plt.plot(x, 0.29*(x+1.361)**2-4.181, color='purple', linewidth=5);      \n",
        "\n",
        "x = np.linspace(0, 2.719, 50); \n",
        "plt.plot(x, 0.29*(x-1.141)**2-4.181, color='purple', linewidth=5);      \n",
        "\n",
        "x = np.linspace(4.943, 5.529, 50); \n",
        "plt.plot(x, -(4-(x-3.529)**2)**0.5, color='blue', linewidth=5);         \n",
        "\n",
        "x = np.linspace(3.529, 5.504, 50); \n",
        "plt.plot(x, -0.48*(x-4.659)**2+0.615, color='blue', linewidth=5);       \n",
        "\n",
        "x = np.linspace(2.229, 5.529, 50); \n",
        "plt.plot(x, (4-(x-3.529)**2)**0.5, color='blue', linewidth=5)\n",
        "\n",
        "plt.plot([-5.400,-2.719], [-0.707,-3.654], color='red', linewidth=5)\n",
        "plt.plot([-1.313,-3.280], [1.505,-0.515], color='red', linewidth=5)\n",
        "plt.plot([2.229,-1.627], [1.531,-2.431], color='purple', linewidth=5)\n",
        "plt.plot([3.529,0.028], [0.042,-3.627], color='purple', linewidth=5)\n",
        "plt.plot([5.002,2.568], [-1.353,-3.648], color='blue', linewidth=5)"
      ],
      "execution_count": 2,
      "outputs": [
        {
          "output_type": "execute_result",
          "data": {
            "text/plain": [
              "[<matplotlib.lines.Line2D at 0x7f32b6b4ea58>]"
            ]
          },
          "metadata": {
            "tags": []
          },
          "execution_count": 2
        },
        {
          "output_type": "display_data",
          "data": {
            "image/png": "[encoded data removed]",
            "text/plain": [
              "<Figure size 432x288 with 1 Axes>"
            ]
          },
          "metadata": {
            "tags": [],
            "needs_background": "light"
          }
        }
      ]
    },
    {
      "cell_type": "code",
      "metadata": {
        "jupyter": {
          "source_hidden": true
        },
        "id": "8g6CERvYBFIf",
        "colab_type": "code",
        "colab": {}
      },
      "source": [
        ""
      ],
      "execution_count": null,
      "outputs": []
    }
  ]
}